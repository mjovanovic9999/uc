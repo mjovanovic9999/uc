{
 "cells": [
  {
   "cell_type": "code",
   "execution_count": 1,
   "id": "20eaaad3",
   "metadata": {},
   "outputs": [],
   "source": [
    "import numpy as np\n",
    "import pandas as pd\n",
    "from datetime import datetime, timedelta\n",
    "\n",
    "np.random.seed(0)"
   ]
  },
  {
   "cell_type": "code",
   "execution_count": 2,
   "id": "af99ae7f",
   "metadata": {},
   "outputs": [],
   "source": [
    "def generate_normal_data(n_samples=1000):\n",
    "    mq2_base = np.random.exponential(scale=0.3, size=n_samples)\n",
    "    mq2_spikes = np.random.choice([0, 1], size=n_samples, p=[0.95, 0.05])\n",
    "    mq2 = mq2_base + mq2_spikes * np.random.uniform(2, 5, n_samples)\n",
    "    mq2 = np.clip(mq2, 0, 5)\n",
    "    \n",
    "    temp = np.random.normal(loc=22, scale=2, size=n_samples)\n",
    "    temp = np.clip(temp, 15, 30)\n",
    "    \n",
    "    humidity = np.random.normal(loc=45, scale=8, size=n_samples)\n",
    "    humidity = np.clip(humidity, 30, 70)\n",
    "    \n",
    "    return mq2, temp, humidity"
   ]
  },
  {
   "cell_type": "code",
   "execution_count": 3,
   "id": "e1796782",
   "metadata": {},
   "outputs": [],
   "source": [
    "def generate_gas_leak_data(n_samples=300):\n",
    "    mq2 = np.random.uniform(5, 50, n_samples)\n",
    "    clusters = np.random.choice([10, 25, 45], size=n_samples, p=[0.3, 0.4, 0.3])\n",
    "    mq2 = 0.7 * mq2 + 0.3 * clusters + np.random.normal(0, 2, n_samples)\n",
    "    mq2 = np.clip(mq2, 5, 55)\n",
    "    \n",
    "    temp = np.random.normal(loc=23, scale=2, size=n_samples)\n",
    "    temp = np.clip(temp, 18, 28)\n",
    "    \n",
    "    humidity = np.random.normal(loc=40, scale=7, size=n_samples)\n",
    "    humidity = np.clip(humidity, 25, 65)\n",
    "    \n",
    "    return mq2, temp, humidity"
   ]
  },
  {
   "cell_type": "code",
   "execution_count": 4,
   "id": "49463d87",
   "metadata": {},
   "outputs": [],
   "source": [
    "def generate_fire_data(n_samples=200):\n",
    "    mq2 = np.random.uniform(5, 60, n_samples)\n",
    "    \n",
    "    temp = np.random.normal(loc=35, scale=5, size=n_samples)\n",
    "    temp = np.clip(temp, 28, 50)\n",
    "    \n",
    "    humidity = np.random.normal(loc=25, scale=5, size=n_samples)\n",
    "    humidity = np.clip(humidity, 15, 40)\n",
    "    \n",
    "    return mq2, temp, humidity"
   ]
  },
  {
   "cell_type": "code",
   "execution_count": 5,
   "id": "91044bee",
   "metadata": {},
   "outputs": [],
   "source": [
    "def generate_high_humidity_data(n_samples=150):\n",
    "    mq2 = np.random.exponential(scale=0.5, size=n_samples)\n",
    "    mq2 = np.clip(mq2, 0, 3)\n",
    "    \n",
    "    temp = np.random.normal(loc=26, scale=3, size=n_samples)\n",
    "    temp = np.clip(temp, 20, 35)\n",
    "  \n",
    "    humidity = np.random.normal(loc=75, scale=8, size=n_samples)\n",
    "    humidity = np.clip(humidity, 65, 95)\n",
    "    \n",
    "    return mq2, temp, humidity"
   ]
  },
  {
   "cell_type": "code",
   "execution_count": 6,
   "id": "72c7d15f",
   "metadata": {},
   "outputs": [],
   "source": [
    "def create_dataset():\n",
    "    data = []\n",
    "    \n",
    "    mq2, temp, hum = generate_normal_data(1000)\n",
    "    for i in range(1000):\n",
    "        data.append({\n",
    "            'mq2': mq2[i],\n",
    "            'temperature': temp[i],\n",
    "            'humidity': hum[i],\n",
    "            'label': 'normal',\n",
    "            'label_id': 0\n",
    "        })\n",
    "    \n",
    "    mq2, temp, hum = generate_gas_leak_data(300)\n",
    "    for i in range(300):\n",
    "        data.append({\n",
    "            'mq2': mq2[i],\n",
    "            'temperature': temp[i],\n",
    "            'humidity': hum[i],\n",
    "            'label': 'gas_leak',\n",
    "            'label_id': 1\n",
    "        })\n",
    "\n",
    "    mq2, temp, hum = generate_fire_data(200)\n",
    "    for i in range(200):\n",
    "        data.append({\n",
    "            'mq2': mq2[i],\n",
    "            'temperature': temp[i],\n",
    "            'humidity': hum[i],\n",
    "            'label': 'fire',\n",
    "            'label_id': 2\n",
    "        })\n",
    "    \n",
    "    mq2, temp, hum = generate_high_humidity_data(150)\n",
    "    for i in range(150):\n",
    "        data.append({\n",
    "            'mq2': mq2[i],\n",
    "            'temperature': temp[i],\n",
    "            'humidity': hum[i],\n",
    "            'label': 'high_humidity',\n",
    "            'label_id': 3\n",
    "        })\n",
    "    \n",
    "    df = pd.DataFrame(data)\n",
    "    df = df.sample(frac=1).reset_index(drop=True).round(2)\n",
    "    \n",
    "    return df"
   ]
  },
  {
   "cell_type": "code",
   "execution_count": 7,
   "id": "94ee742a",
   "metadata": {},
   "outputs": [],
   "source": [
    "df = create_dataset()\n",
    "df.to_csv('sensor_dataset.csv', index=False)"
   ]
  },
  {
   "cell_type": "code",
   "execution_count": 8,
   "id": "d5ab37e8",
   "metadata": {},
   "outputs": [
    {
     "data": {
      "text/html": [
       "<div>\n",
       "<style scoped>\n",
       "    .dataframe tbody tr th:only-of-type {\n",
       "        vertical-align: middle;\n",
       "    }\n",
       "\n",
       "    .dataframe tbody tr th {\n",
       "        vertical-align: top;\n",
       "    }\n",
       "\n",
       "    .dataframe thead th {\n",
       "        text-align: right;\n",
       "    }\n",
       "</style>\n",
       "<table border=\"1\" class=\"dataframe\">\n",
       "  <thead>\n",
       "    <tr style=\"text-align: right;\">\n",
       "      <th></th>\n",
       "      <th>mq2</th>\n",
       "      <th>temperature</th>\n",
       "      <th>humidity</th>\n",
       "      <th>label</th>\n",
       "      <th>label_id</th>\n",
       "    </tr>\n",
       "  </thead>\n",
       "  <tbody>\n",
       "    <tr>\n",
       "      <th>0</th>\n",
       "      <td>3.44</td>\n",
       "      <td>21.01</td>\n",
       "      <td>41.29</td>\n",
       "      <td>normal</td>\n",
       "      <td>0</td>\n",
       "    </tr>\n",
       "    <tr>\n",
       "      <th>1</th>\n",
       "      <td>35.27</td>\n",
       "      <td>36.80</td>\n",
       "      <td>22.85</td>\n",
       "      <td>fire</td>\n",
       "      <td>2</td>\n",
       "    </tr>\n",
       "    <tr>\n",
       "      <th>2</th>\n",
       "      <td>0.47</td>\n",
       "      <td>19.34</td>\n",
       "      <td>64.97</td>\n",
       "      <td>normal</td>\n",
       "      <td>0</td>\n",
       "    </tr>\n",
       "    <tr>\n",
       "      <th>3</th>\n",
       "      <td>0.46</td>\n",
       "      <td>21.89</td>\n",
       "      <td>54.40</td>\n",
       "      <td>normal</td>\n",
       "      <td>0</td>\n",
       "    </tr>\n",
       "    <tr>\n",
       "      <th>4</th>\n",
       "      <td>0.30</td>\n",
       "      <td>21.65</td>\n",
       "      <td>43.57</td>\n",
       "      <td>normal</td>\n",
       "      <td>0</td>\n",
       "    </tr>\n",
       "  </tbody>\n",
       "</table>\n",
       "</div>"
      ],
      "text/plain": [
       "     mq2  temperature  humidity   label  label_id\n",
       "0   3.44        21.01     41.29  normal         0\n",
       "1  35.27        36.80     22.85    fire         2\n",
       "2   0.47        19.34     64.97  normal         0\n",
       "3   0.46        21.89     54.40  normal         0\n",
       "4   0.30        21.65     43.57  normal         0"
      ]
     },
     "execution_count": 8,
     "metadata": {},
     "output_type": "execute_result"
    }
   ],
   "source": [
    "df.head()"
   ]
  },
  {
   "cell_type": "code",
   "execution_count": 9,
   "id": "aa167db4",
   "metadata": {},
   "outputs": [
    {
     "name": "stdout",
     "output_type": "stream",
     "text": [
      "label\n",
      "normal           1000\n",
      "gas_leak          300\n",
      "fire              200\n",
      "high_humidity     150\n",
      "Name: count, dtype: int64\n"
     ]
    }
   ],
   "source": [
    "print(df['label'].value_counts())"
   ]
  }
 ],
 "metadata": {
  "kernelspec": {
   "display_name": "Python 3",
   "language": "python",
   "name": "python3"
  },
  "language_info": {
   "codemirror_mode": {
    "name": "ipython",
    "version": 3
   },
   "file_extension": ".py",
   "mimetype": "text/x-python",
   "name": "python",
   "nbconvert_exporter": "python",
   "pygments_lexer": "ipython3",
   "version": "3.13.7"
  }
 },
 "nbformat": 4,
 "nbformat_minor": 5
}
